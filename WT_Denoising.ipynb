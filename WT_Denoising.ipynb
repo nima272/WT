{
 "cells": [
  {
   "cell_type": "code",
   "execution_count": null,
   "id": "cd29e52e-f6df-4742-be74-733ec75a628a",
   "metadata": {},
   "outputs": [],
   "source": [
    "import pandas as pd\n",
    "import numpy as np\n",
    "\n",
    "import matplotlib.pyplot as plt\n",
    "\n",
    "import pywt\n",
    "\n",
    "import plotly.graph_objects as go\n",
    "\n",
    "from scipy.interpolate import interp1d"
   ]
  },
  {
   "cell_type": "markdown",
   "id": "eaff1cb0-e65d-46ea-b40e-c60df055fbc9",
   "metadata": {},
   "source": [
    "# INPUTS"
   ]
  },
  {
   "cell_type": "code",
   "execution_count": null,
   "id": "6186931e-7587-406f-8d40-ea8c71c525b1",
   "metadata": {},
   "outputs": [],
   "source": [
    "step_for_uniformSampling=1\n",
    "\n",
    "Wavelet_Threshold_Mult_Factor=50#20\n",
    "\n",
    "xy_data_path='INPUT_xy.csv'\n",
    "\n",
    "wavelet = 'db4'  # Daubechies wavelet"
   ]
  },
  {
   "cell_type": "markdown",
   "id": "ce991d41-4d12-4553-9522-7670cec8ed94",
   "metadata": {},
   "source": [
    "# Read the data"
   ]
  },
  {
   "cell_type": "code",
   "execution_count": null,
   "id": "ab69fa7d-324d-48d6-9702-5a1be2ac1b49",
   "metadata": {},
   "outputs": [],
   "source": [
    "# read the raw data\n",
    "df=pd.read_csv(xy_data_path)\n",
    "X=np.array(df.X)\n",
    "y=np.array(df.y)"
   ]
  },
  {
   "cell_type": "markdown",
   "id": "eecb4c69-450e-43c7-bb00-c78507aae7ed",
   "metadata": {},
   "source": [
    "# Uniformly sample the non-uniform data"
   ]
  },
  {
   "cell_type": "code",
   "execution_count": null,
   "id": "6e6ffda1-ef22-4dc9-aa0a-79dad845ece4",
   "metadata": {},
   "outputs": [],
   "source": [
    "# Make the data unirfmly sampled\n",
    "f=interp1d(X, y, kind='cubic')\n",
    "xnew = np.arange(X[0], X[-1]+step_for_uniformSampling, step_for_uniformSampling)\n",
    "ynew = f(xnew)\n",
    "\n",
    "# Plot\n",
    "fig=go.Figure()\n",
    "fig.add_trace(go.Scatter(x=xnew, y=ynew, name='Raw Data-UniformlySampled'))\n",
    "fig.add_trace(go.Scatter(x=X, y=y, name='Raw Data'))\n",
    "fig.show()\n"
   ]
  },
  {
   "cell_type": "markdown",
   "id": "894da536-0852-4c51-b6b5-888070d782ca",
   "metadata": {},
   "source": [
    "# Smooth the data with Wavelet decomposition with- and without-thresholding"
   ]
  },
  {
   "cell_type": "code",
   "execution_count": null,
   "id": "5b682397-4d2a-4dd4-950a-2df117289f16",
   "metadata": {},
   "outputs": [],
   "source": [
    "# define wavelet and decomposition level\n",
    "level = pywt.dwt_max_level(len(ynew), pywt.Wavelet(wavelet).dec_len)\n",
    "\n",
    "# wavelet decomposition\n",
    "coeffs = pywt.wavedec(ynew, wavelet, level=level)\n",
    "\n",
    "# extracting coefficients for reconstruction of the signal without thresholding\n",
    "coeffs_WO_thresh  = [coeffs[0]] + [np.zeros_like(c) for c in coeffs[1:]]\n",
    "\n",
    "# extracting coefficients for reconstruction of the signal with thresholding\n",
    "threshold = Wavelet_Threshold_Mult_Factor * np.std(coeffs[-1]) * np.sqrt(2 * np.log(len(ynew)))\n",
    "coeffs_W_thresh   = [coeffs[0]] + [pywt.threshold(c, threshold, mode='soft') for c in coeffs[1:]]\n",
    "\n",
    "# Reconstruct the smoothed-signal\n",
    "y_smooth_W_thresh  = pywt.waverec(coeffs_W_thresh,  wavelet)\n",
    "y_smooth_WO_thresh = pywt.waverec(coeffs_WO_thresh, wavelet)\n",
    "\n",
    "\n",
    "# Plot the results\n",
    "fig=go.Figure()\n",
    "fig.add_trace(go.Scatter(x=X,    y=y,                  name = 'Raw_Data'))\n",
    "fig.add_trace(go.Scatter(x=xnew, y=ynew,               name = 'Raw_Data_Uniform'))\n",
    "fig.add_trace(go.Scatter(x=xnew, y=y_smooth_W_thresh,  name = 'Smoothed_With_Thresh.'))\n",
    "fig.add_trace(go.Scatter(x=xnew, y=y_smooth_WO_thresh, name = 'Smoothed_Without_Thresh.'))\n",
    "\n",
    "fig.update_layout(\n",
    "    title='Raw data smoothed with WT decomposition with- and without-thresholding',\n",
    "    xaxis_title='X',\n",
    "    yaxis_title='y')\n",
    "fig.show()"
   ]
  },
  {
   "cell_type": "code",
   "execution_count": null,
   "id": "97e5f6d6-7680-4747-93f8-614dd90741a9",
   "metadata": {},
   "outputs": [],
   "source": []
  }
 ],
 "metadata": {
  "kernelspec": {
   "display_name": "Python 3 (ipykernel)",
   "language": "python",
   "name": "python3"
  },
  "language_info": {
   "codemirror_mode": {
    "name": "ipython",
    "version": 3
   },
   "file_extension": ".py",
   "mimetype": "text/x-python",
   "name": "python",
   "nbconvert_exporter": "python",
   "pygments_lexer": "ipython3",
   "version": "3.11.7"
  }
 },
 "nbformat": 4,
 "nbformat_minor": 5
}
